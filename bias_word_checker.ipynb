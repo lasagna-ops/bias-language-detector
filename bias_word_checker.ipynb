{
  "nbformat": 4,
  "nbformat_minor": 0,
  "metadata": {
    "colab": {
      "provenance": []
    },
    "kernelspec": {
      "name": "python3",
      "display_name": "Python 3"
    },
    "language_info": {
      "name": "python"
    }
  },
  "cells": [
    {
      "cell_type": "code",
      "execution_count": null,
      "metadata": {
        "id": "Viun0oDvwReN"
      },
      "outputs": [],
      "source": [
        "# bias_word_checker.ipynb\n",
        "\n",
        "# Step 1: Define sample job snippets\n",
        "job_snippets = [\n",
        "    \"We are looking for a strong and aggressive leader.\",\n",
        "    \"We value empathy, collaboration, and diverse backgrounds.\",\n",
        "    \"Young, energetic team seeks rockstar developer.\",\n",
        "    \"Flexible working hours and parental support provided.\",\n",
        "    \"Join our results-driven team of innovators ready to dominate the market.\",\n",
        "    \"Mutual respect, flexibility, and growth are part of our culture.\",\n",
        "]\n",
        "\n",
        "# Step 2: Define biased vs inclusive language lists\n",
        "biased_words = [\"strong\", \"aggressive\", \"young\", \"rockstar\", \"dominate\", \"results-driven\"]\n",
        "inclusive_words = [\"empathy\", \"diverse\", \"collaboration\", \"flexible\", \"support\", \"respect\", \"growth\"]\n",
        "\n",
        "# Step 3: Analyze the text\n",
        "for snippet in job_snippets:\n",
        "    tokens = snippet.lower().split()\n",
        "    bias_hits = [word for word in tokens if word.strip(\".,\") in biased_words]\n",
        "    inclusive_hits = [word for word in tokens if word.strip(\".,\") in inclusive_words]\n",
        "\n",
        "    print(f\"Snippet: \\\"{snippet}\\\"\")\n",
        "    print(f\"→ Biased words: {bias_hits}\")\n",
        "    print(f\"→ Inclusive words: {inclusive_hits}\")\n",
        "    print(\"-\" * 60)\n"
      ]
    }
  ]
}