# bias_detector.ipynb

json

{
  "cells": [],
  "metadata": {},
  "nbformat": 4,
  "nbformat_minor": 5
}

# Step 1: Import libraries
import pandas as pd
from sklearn.feature_extraction.text import CountVectorizer
from sklearn.model_selection import train_test_split
from sklearn.naive_bayes import MultinomialNB
from sklearn.metrics import classification_report

# Step 2: Sample data
data = {
    "text": [
        "We are looking for a strong and aggressive leader.",
        "We value empathy, collaboration, and diverse backgrounds.",
        "Young, energetic team seeks rockstar developer.",
        "Flexible working hours and parental support provided.",
        "We want someone who can dominate the market.",
        "Join our inclusive team focused on mutual respect.",
    ],
    "label": [1, 0, 1, 0, 1, 0]  # 1 = biased, 0 = neutral/inclusive
}

df = pd.DataFrame(data)

# Step 3: Vectorize text
vectorizer = CountVectorizer()
X = vectorizer.fit_transform(df['text'])
y = df['label']

# Step 4: Train/test split
X_train, X_test, y_train, y_test = train_test_split(X, y, test_size=0.3, random_state=42)

# Step 5: Train model
model = MultinomialNB()
model.fit(X_train, y_train)

# Step 6: Evaluate
y_pred = model.predict(X_test)
print(classification_report(y_test, y_pred))
